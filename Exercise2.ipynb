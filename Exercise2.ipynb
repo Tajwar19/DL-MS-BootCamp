{
 "cells": [
  {
   "cell_type": "markdown",
   "id": "c1cf733c",
   "metadata": {},
   "source": [
    " 1. Display float number with 2 decimal places using print().\n",
    " "
   ]
  },
  {
   "cell_type": "code",
   "execution_count": 2,
   "id": "1654ad7d",
   "metadata": {},
   "outputs": [
    {
     "name": "stdout",
     "output_type": "stream",
     "text": [
      "3.1416\n",
      "3.14\n"
     ]
    }
   ],
   "source": [
    "a = float(input())\n",
    "print(round(a,2))"
   ]
  },
  {
   "cell_type": "markdown",
   "id": "ffd777c4",
   "metadata": {},
   "source": [
    "2. Accept a list of float numbers as input from the user and display that."
   ]
  },
  {
   "cell_type": "code",
   "execution_count": 5,
   "id": "b21ad84b",
   "metadata": {},
   "outputs": [
    {
     "name": "stdout",
     "output_type": "stream",
     "text": [
      "4\n",
      "6.2\n",
      "5.1\n",
      "7.132\n",
      "6\n",
      "[6.2, 5.1, 7.132, 6.0]\n"
     ]
    }
   ],
   "source": [
    "l = []\n",
    "n = int(input())\n",
    "\n",
    "for i in range(0,n):\n",
    "    f = float(input())\n",
    "    l.append(f)\n",
    "\n",
    "print(l)"
   ]
  },
  {
   "cell_type": "markdown",
   "id": "e60bf23e",
   "metadata": {},
   "source": [
    "3. Print the First n natural numbers using a while loop."
   ]
  },
  {
   "cell_type": "code",
   "execution_count": 8,
   "id": "00a2704e",
   "metadata": {},
   "outputs": [
    {
     "name": "stdout",
     "output_type": "stream",
     "text": [
      "8\n",
      "1\n",
      "2\n",
      "3\n",
      "4\n",
      "5\n",
      "6\n",
      "7\n",
      "8\n"
     ]
    }
   ],
   "source": [
    "n = int(input())\n",
    "i=1\n",
    "\n",
    "while i<=n:\n",
    "    print(i)\n",
    "    i+=1\n"
   ]
  },
  {
   "cell_type": "markdown",
   "id": "f1978330",
   "metadata": {},
   "source": [
    "4. Display numbers from -n to -1 using for loop."
   ]
  },
  {
   "cell_type": "code",
   "execution_count": 15,
   "id": "6f43586e",
   "metadata": {},
   "outputs": [
    {
     "name": "stdout",
     "output_type": "stream",
     "text": [
      "-4\n",
      "-4\n",
      "-3\n",
      "-2\n",
      "-1\n"
     ]
    }
   ],
   "source": [
    "n = int(input())\n",
    "\n",
    "for i in range(n,0):\n",
    "    print(i)\n",
    "    \n",
    "    "
   ]
  },
  {
   "cell_type": "markdown",
   "id": "4b471d3a",
   "metadata": {},
   "source": [
    "5. Count the total number of digits in a number."
   ]
  },
  {
   "cell_type": "code",
   "execution_count": 16,
   "id": "3ca25460",
   "metadata": {},
   "outputs": [
    {
     "name": "stdout",
     "output_type": "stream",
     "text": [
      "982364\n",
      "6\n"
     ]
    }
   ],
   "source": [
    "n = input()\n",
    "count = 0\n",
    "\n",
    "for i in n:\n",
    "    if (i.isdigit()):\n",
    "        count+=1\n",
    "\n",
    "print(count)\n"
   ]
  },
  {
   "cell_type": "raw",
   "id": "f4f38aa9",
   "metadata": {},
   "source": [
    "6. Find the factorial of a given number."
   ]
  },
  {
   "cell_type": "code",
   "execution_count": 17,
   "id": "ccc8ee2e",
   "metadata": {},
   "outputs": [
    {
     "name": "stdout",
     "output_type": "stream",
     "text": [
      "5\n",
      "120\n"
     ]
    }
   ],
   "source": [
    "def fact(n):\n",
    "    if n==1:\n",
    "        return n\n",
    "    return n*fact(n-1)\n",
    "\n",
    "n = int(input())\n",
    "\n",
    "print(fact(n))"
   ]
  },
  {
   "cell_type": "code",
   "execution_count": 24,
   "id": "36b03cab",
   "metadata": {},
   "outputs": [
    {
     "name": "stdout",
     "output_type": "stream",
     "text": [
      "1 \n",
      "1 2 \n",
      "1 2 3 \n",
      "1 2 3 4 \n",
      "1 2 3 4 5 \n"
     ]
    }
   ],
   "source": [
    "for i in range(1,6):\n",
    "    for j in range(1,i+1):\n",
    "        print(j,end = ' ')\n",
    "    \n",
    "    print('')\n"
   ]
  },
  {
   "cell_type": "code",
   "execution_count": null,
   "id": "12deacaa",
   "metadata": {},
   "outputs": [],
   "source": []
  }
 ],
 "metadata": {
  "kernelspec": {
   "display_name": "Python 3 (ipykernel)",
   "language": "python",
   "name": "python3"
  },
  "language_info": {
   "codemirror_mode": {
    "name": "ipython",
    "version": 3
   },
   "file_extension": ".py",
   "mimetype": "text/x-python",
   "name": "python",
   "nbconvert_exporter": "python",
   "pygments_lexer": "ipython3",
   "version": "3.10.10"
  }
 },
 "nbformat": 4,
 "nbformat_minor": 5
}
