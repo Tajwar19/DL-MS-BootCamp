{
 "cells": [
  {
   "cell_type": "code",
   "execution_count": 1,
   "id": "29b3a70b",
   "metadata": {},
   "outputs": [
    {
     "ename": "NameError",
     "evalue": "name 's' is not defined",
     "output_type": "error",
     "traceback": [
      "\u001b[1;31m---------------------------------------------------------------------------\u001b[0m",
      "\u001b[1;31mNameError\u001b[0m                                 Traceback (most recent call last)",
      "Cell \u001b[1;32mIn[1], line 4\u001b[0m\n\u001b[0;32m      2\u001b[0m b \u001b[38;5;241m=\u001b[39m\u001b[38;5;241m20\u001b[39m\n\u001b[0;32m      3\u001b[0m \u001b[38;5;28msum\u001b[39m \u001b[38;5;241m=\u001b[39m a\u001b[38;5;241m+\u001b[39mb\n\u001b[1;32m----> 4\u001b[0m \u001b[38;5;28mprint\u001b[39m(\u001b[43ms\u001b[49m)\n",
      "\u001b[1;31mNameError\u001b[0m: name 's' is not defined"
     ]
    }
   ],
   "source": [
    "a = 10\n",
    "b =20\n",
    "sum = a+b\n",
    "print(s)"
   ]
  },
  {
   "cell_type": "code",
   "execution_count": 2,
   "id": "778aaa8a",
   "metadata": {},
   "outputs": [
    {
     "name": "stdout",
     "output_type": "stream",
     "text": [
      "30\n"
     ]
    }
   ],
   "source": [
    "print(sum)"
   ]
  },
  {
   "cell_type": "code",
   "execution_count": 3,
   "id": "c227526e",
   "metadata": {},
   "outputs": [
    {
     "data": {
      "text/plain": [
       "2.0"
      ]
     },
     "execution_count": 3,
     "metadata": {},
     "output_type": "execute_result"
    }
   ],
   "source": [
    "b/a"
   ]
  },
  {
   "cell_type": "code",
   "execution_count": 4,
   "id": "ff592639",
   "metadata": {},
   "outputs": [],
   "source": [
    "a = 5\n",
    "b =4"
   ]
  },
  {
   "cell_type": "code",
   "execution_count": 5,
   "id": "352337dd",
   "metadata": {},
   "outputs": [
    {
     "data": {
      "text/plain": [
       "0.8"
      ]
     },
     "execution_count": 5,
     "metadata": {},
     "output_type": "execute_result"
    }
   ],
   "source": [
    "b/a\n"
   ]
  },
  {
   "cell_type": "code",
   "execution_count": 6,
   "id": "e126d264",
   "metadata": {},
   "outputs": [
    {
     "data": {
      "text/plain": [
       "0"
      ]
     },
     "execution_count": 6,
     "metadata": {},
     "output_type": "execute_result"
    }
   ],
   "source": [
    "b//a"
   ]
  },
  {
   "cell_type": "code",
   "execution_count": 7,
   "id": "d4209e15",
   "metadata": {},
   "outputs": [
    {
     "data": {
      "text/plain": [
       "0"
      ]
     },
     "execution_count": 7,
     "metadata": {},
     "output_type": "execute_result"
    }
   ],
   "source": [
    "b//a #round kore ans dei"
   ]
  },
  {
   "cell_type": "markdown",
   "id": "fb6cb09f",
   "metadata": {},
   "source": [
    "###Floor math.floor(x) or x//y or x//1;\n"
   ]
  },
  {
   "cell_type": "code",
   "execution_count": 8,
   "id": "99431f14",
   "metadata": {},
   "outputs": [
    {
     "ename": "NameError",
     "evalue": "name 'math' is not defined",
     "output_type": "error",
     "traceback": [
      "\u001b[1;31m---------------------------------------------------------------------------\u001b[0m",
      "\u001b[1;31mNameError\u001b[0m                                 Traceback (most recent call last)",
      "Cell \u001b[1;32mIn[8], line 5\u001b[0m\n\u001b[0;32m      3\u001b[0m div \u001b[38;5;241m=\u001b[39m b\u001b[38;5;241m/\u001b[39ma;\n\u001b[0;32m      4\u001b[0m div \u001b[38;5;241m=\u001b[39m b\u001b[38;5;241m/\u001b[39m\u001b[38;5;241m/\u001b[39ma;\n\u001b[1;32m----> 5\u001b[0m \u001b[43mmath\u001b[49m\u001b[38;5;241m.\u001b[39mfloor(div) \u001b[38;5;66;03m#ceil convert a number to ints lower nearest like 4.4 will be 4, 4.3 will be 4, 4.1 will be 4\u001b[39;00m\n\u001b[0;32m      6\u001b[0m math\u001b[38;5;241m.\u001b[39mceil(div) \u001b[38;5;66;03m#ceil convert a number to ints upper nearest like 4.5 will be 5, 4.6 will be 5, 4.9 will be 5\u001b[39;00m\n",
      "\u001b[1;31mNameError\u001b[0m: name 'math' is not defined"
     ]
    }
   ],
   "source": [
    "a = 7;\n",
    "b = 15;\n",
    "div = b/a;\n",
    "div = b//a;\n",
    "math.floor(div) #ceil convert a number to ints lower nearest like 4.4 will be 4, 4.3 will be 4, 4.1 will be 4\n",
    "math.ceil(div) #ceil convert a number to ints upper nearest like 4.5 will be 5, 4.6 will be 5, 4.9 will be 5"
   ]
  },
  {
   "cell_type": "code",
   "execution_count": 9,
   "id": "9555b708",
   "metadata": {},
   "outputs": [
    {
     "ename": "NameError",
     "evalue": "name 'floor' is not defined",
     "output_type": "error",
     "traceback": [
      "\u001b[1;31m---------------------------------------------------------------------------\u001b[0m",
      "\u001b[1;31mNameError\u001b[0m                                 Traceback (most recent call last)",
      "Cell \u001b[1;32mIn[9], line 5\u001b[0m\n\u001b[0;32m      3\u001b[0m div \u001b[38;5;241m=\u001b[39m b\u001b[38;5;241m/\u001b[39ma;\n\u001b[0;32m      4\u001b[0m div \u001b[38;5;241m=\u001b[39m b\u001b[38;5;241m/\u001b[39m\u001b[38;5;241m/\u001b[39ma;\n\u001b[1;32m----> 5\u001b[0m \u001b[43mfloor\u001b[49m(div) \u001b[38;5;66;03m#ceil convert a number to ints lower nearest like 4.4 will be 4, 4.3 will be 4, 4.1 will be 4\u001b[39;00m\n\u001b[0;32m      6\u001b[0m ceil(div) \u001b[38;5;66;03m#ceil convert a number to ints upper nearest like 4.5 will be 5, 4.6 will be 5, 4.9 will be 5\u001b[39;00m\n",
      "\u001b[1;31mNameError\u001b[0m: name 'floor' is not defined"
     ]
    }
   ],
   "source": [
    "a = 7;\n",
    "b = 15;\n",
    "div = b/a;\n",
    "div = b//a;\n",
    "floor(div) #ceil convert a number to ints lower nearest like 4.4 will be 4, 4.3 will be 4, 4.1 will be 4\n",
    "ceil(div) #ceil convert a number to ints upper nearest like 4.5 will be 5, 4.6 will be 5, 4.9 will be 5"
   ]
  },
  {
   "cell_type": "code",
   "execution_count": 13,
   "id": "e0f5f75f",
   "metadata": {},
   "outputs": [
    {
     "name": "stdout",
     "output_type": "stream",
     "text": [
      "2.142857142857143\n",
      "2\n",
      "2\n",
      "4\n"
     ]
    }
   ],
   "source": [
    "import math\n",
    "a = 7;\n",
    "b = 15;\n",
    "div = b/a;\n",
    "print(div)\n",
    "div1 = b//a;\n",
    "print(div1)\n",
    "div2 = b/a;\n",
    "div3 = b/4;\n",
    "print(math.floor(div2)) #ceil convert a number to ints lower nearest like 4.4 will be 4, 4.3 will be 4, 4.1 will be 4\n",
    "print(math.ceil(div3)) #ceil convert a number to ints upper nearest like 4.5 will be 5, 4.6 will be 5, 4.9 will be 5"
   ]
  },
  {
   "cell_type": "code",
   "execution_count": null,
   "id": "4220b125",
   "metadata": {},
   "outputs": [],
   "source": []
  }
 ],
 "metadata": {
  "kernelspec": {
   "display_name": "Python 3 (ipykernel)",
   "language": "python",
   "name": "python3"
  },
  "language_info": {
   "codemirror_mode": {
    "name": "ipython",
    "version": 3
   },
   "file_extension": ".py",
   "mimetype": "text/x-python",
   "name": "python",
   "nbconvert_exporter": "python",
   "pygments_lexer": "ipython3",
   "version": "3.10.10"
  }
 },
 "nbformat": 4,
 "nbformat_minor": 5
}
