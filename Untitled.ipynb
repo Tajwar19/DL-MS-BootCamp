{
 "cells": [
  {
   "cell_type": "code",
   "execution_count": null,
   "id": "8240bac1",
   "metadata": {},
   "outputs": [],
   "source": [
    "def largest_num(a,b,c):\n",
    "    if a>b & a>c:\n",
    "        maxi = a\n",
    "    elif b>a & b>c:\n",
    "        maxi = b\n",
    "    else:\n",
    "        maxi =  c\n",
    "\n",
    "    return maxi\n",
    "\n",
    "\n",
    "a = input() \n",
    "b = input()\n",
    "c = input()\n",
    "\n",
    "largest_number = largest_num(a,b,c)\n",
    "\n",
    "print(\"Largest number is: \",largest_number)\n"
   ]
  },
  {
   "cell_type": "code",
   "execution_count": null,
   "id": "55f31601",
   "metadata": {},
   "outputs": [],
   "source": [
    "3\n",
    "4\n",
    "7"
   ]
  },
  {
   "cell_type": "code",
   "execution_count": null,
   "id": "e7b40ab9",
   "metadata": {},
   "outputs": [],
   "source": []
  }
 ],
 "metadata": {
  "kernelspec": {
   "display_name": "Python 3 (ipykernel)",
   "language": "python",
   "name": "python3"
  },
  "language_info": {
   "codemirror_mode": {
    "name": "ipython",
    "version": 3
   },
   "file_extension": ".py",
   "mimetype": "text/x-python",
   "name": "python",
   "nbconvert_exporter": "python",
   "pygments_lexer": "ipython3",
   "version": "3.10.10"
  }
 },
 "nbformat": 4,
 "nbformat_minor": 5
}
